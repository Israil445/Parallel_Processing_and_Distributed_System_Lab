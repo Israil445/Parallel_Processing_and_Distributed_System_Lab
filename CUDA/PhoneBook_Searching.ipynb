{
  "nbformat": 4,
  "nbformat_minor": 0,
  "metadata": {
    "colab": {
      "provenance": [],
      "gpuType": "T4"
    },
    "kernelspec": {
      "name": "python3",
      "display_name": "Python 3"
    },
    "language_info": {
      "name": "python"
    },
    "accelerator": "GPU"
  },
  "cells": [
    {
      "cell_type": "code",
      "source": [
        "from google.colab import drive\n",
        "drive.mount('/content/drive')"
      ],
      "metadata": {
        "id": "AcD1ujBVLFop",
        "outputId": "1d754564-442e-4f9e-e2c0-7eb3d3a1fa9f",
        "colab": {
          "base_uri": "https://localhost:8080/"
        }
      },
      "execution_count": 1,
      "outputs": [
        {
          "output_type": "stream",
          "name": "stdout",
          "text": [
            "Mounted at /content/drive\n"
          ]
        }
      ]
    },
    {
      "cell_type": "markdown",
      "source": [
        "### PhoneBook_Search"
      ],
      "metadata": {
        "id": "A3xBO69vMTqp"
      }
    },
    {
      "cell_type": "code",
      "source": [
        "%%writefile search_phonebook.cu\n",
        "#include <bits/stdc++.h>\n",
        "#include <cuda.h>\n",
        "\n",
        "using namespace std;\n",
        "\n",
        "// Structure representing a Contact\n",
        "struct Contact {\n",
        "  char id[50];\n",
        "  char name[50];\n",
        "  char number[50];\n",
        "};\n",
        "\n",
        "// Device function to check if two strings match\n",
        "__device__ bool check(char* str1, char* str2, int len) {\n",
        "  // Loop through the first string\n",
        "  for(int i = 0; str1[i] != '\\0'; i++) {\n",
        "    int j = 0;\n",
        "    // Check if substrings match character by character\n",
        "    while(str1[i+j] != '\\0' && str2[j] != '\\0' && str1[i+j] == str2[j]) {\n",
        "      j++;\n",
        "    }\n",
        "\n",
        "    if(j == len-1) {\n",
        "      return true;\n",
        "    }\n",
        "  }\n",
        "  return false;\n",
        "}\n",
        "\n",
        "// Kernel function to search the phonebook for a contact with the given name\n",
        "__global__ void searchPhonebook(Contact* phonebook, int num_contacts, char* search_name, int name_length) {\n",
        "  // Calculate the global index of the thread\n",
        "  int idx = blockIdx.x * blockDim.x + threadIdx.x;\n",
        "\n",
        "  // If the thread index is within the bounds of the phonebook\n",
        "  if(idx < num_contacts) {\n",
        "    if(check(phonebook[idx].name, search_name, name_length)) {\n",
        "      printf(\"%s %s %s\\n\", phonebook[idx].id, phonebook[idx].name, phonebook[idx].number);\n",
        "    }\n",
        "  }\n",
        "}\n",
        "\n",
        "int main(int argc, char* argv[]) {\n",
        "  // Ensure correct number of command-line arguments\n",
        "  if(argc != 3) {\n",
        "    cerr << \"Usage: \" << argv[0] << \" <search_name> <num_threads>\" << endl;\n",
        "    return 1;\n",
        "  }\n",
        "\n",
        "  string search_name = argv[1];  // Search name provided as argument\n",
        "  int num_threads = atoi(argv[2]);  // Number of threads per block\n",
        "\n",
        "  // Path to the phonebook file\n",
        "  string file_name = \"/content/drive/MyDrive/Parallel_Processing/phonebook.txt\";\n",
        "\n",
        "  vector<Contact> phonebook;\n",
        "\n",
        "  // Open the phonebook file\n",
        "  ifstream file(file_name);\n",
        "  if(!file.is_open()) {\n",
        "    cerr << \"Error opening file: \" << file_name << endl;\n",
        "    return 1;\n",
        "  }\n",
        "  else {\n",
        "    Contact contact;\n",
        "    string line;\n",
        "\n",
        "    // Read each line from the phonebook file\n",
        "    while(getline(file, line)) {\n",
        "      int pos = line.find(\",\");\n",
        "      // Extract the name (without quotes)\n",
        "      strcpy(contact.name, line.substr(1, pos - 2).c_str());\n",
        "      // Extract the phone number (without quotes)\n",
        "      strcpy(contact.number, line.substr(pos + 2, line.size() - pos - 4).c_str());\n",
        "\n",
        "      phonebook.push_back(contact);\n",
        "    }\n",
        "    file.close();\n",
        "  }\n",
        "\n",
        "  int num_contacts = phonebook.size();\n",
        "\n",
        "  // Allocate memory on the GPU for the phonebook\n",
        "  Contact* device_phonebook;\n",
        "  cudaMalloc((void**)&device_phonebook, sizeof(Contact)*num_contacts);\n",
        "\n",
        "  // Copy the phonebook data from host to device\n",
        "  cudaMemcpy(device_phonebook, phonebook.data(), sizeof(Contact)*num_contacts, cudaMemcpyHostToDevice);\n",
        "\n",
        "  // Allocate memory on the GPU for the search name\n",
        "  int name_length = search_name.length() + 1;\n",
        "  char* device_search_name;\n",
        "  cudaMalloc((void**)&device_search_name, name_length);\n",
        "\n",
        "  // Copy the search name from host to device\n",
        "  cudaMemcpy(device_search_name, search_name.c_str(), name_length, cudaMemcpyHostToDevice);\n",
        "\n",
        "  // Launch the kernel with multiple blocks, processing `num_threads` contacts at a time\n",
        "  for(int i = 0; i < num_contacts; i += num_threads) {\n",
        "    int thread_count = min(num_contacts-i, num_threads);\n",
        "    searchPhonebook<<<1, thread_count>>>(device_phonebook + i, thread_count, device_search_name, name_length);\n",
        "    cudaDeviceSynchronize();\n",
        "  }\n",
        "\n",
        "  // Free the allocated memory on the device\n",
        "  cudaFree(device_phonebook);\n",
        "  cudaFree(device_search_name);\n",
        "\n",
        "  return 0;\n",
        "}\n"
      ],
      "metadata": {
        "id": "7bLSmYgtMNgl",
        "outputId": "2af915f6-0f01-4612-dc42-b931d79d0317",
        "colab": {
          "base_uri": "https://localhost:8080/"
        }
      },
      "execution_count": 24,
      "outputs": [
        {
          "output_type": "stream",
          "name": "stdout",
          "text": [
            "Overwriting search_phonebook.cu\n"
          ]
        }
      ]
    },
    {
      "cell_type": "code",
      "source": [
        "!nvcc -arch=sm_75 search_phonebook.cu -o search_phonebook"
      ],
      "metadata": {
        "id": "WRNcJgCQYnSr"
      },
      "execution_count": 25,
      "outputs": []
    },
    {
      "cell_type": "code",
      "source": [
        "!time ./search_phonebook JAHAN 200 > output.txt"
      ],
      "metadata": {
        "colab": {
          "base_uri": "https://localhost:8080/"
        },
        "id": "mKVzXBIoZTL1",
        "outputId": "95bf28c8-62dc-4703-8fa6-557b1b171904"
      },
      "execution_count": 31,
      "outputs": [
        {
          "output_type": "stream",
          "name": "stdout",
          "text": [
            "\n",
            "real\t0m0.140s\n",
            "user\t0m0.015s\n",
            "sys\t0m0.118s\n"
          ]
        }
      ]
    }
  ]
}